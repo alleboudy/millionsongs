{
 "cells": [
  {
   "cell_type": "code",
   "execution_count": 99,
   "metadata": {
    "collapsed": false
   },
   "outputs": [],
   "source": [
    "import os\n",
    "import sys\n",
    "import time\n",
    "import glob\n",
    "import datetime\n",
    "import sqlite3\n",
    "import numpy as np\n",
    "import ConfigParser\n",
    "from nltk import ngrams\n",
    "import hashlib\n",
    "import numpy.matlib\n",
    "from sklearn import preprocessing\n",
    "from math import cos, sqrt, pi, ceil\n"
   ]
  },
  {
   "cell_type": "markdown",
   "metadata": {},
   "source": [
    "# $Step 1$Read parameters from the config file"
   ]
  },
  {
   "cell_type": "code",
   "execution_count": 126,
   "metadata": {
    "collapsed": true
   },
   "outputs": [],
   "source": [
    "g65_configFileLocation = './config'\n",
    "Config = ConfigParser.ConfigParser()\n",
    "Config.read(g65_configFileLocation)\n",
    "def ConfigSectionMap(section):\n",
    "    dict1 = {}\n",
    "    options = Config.options(section)\n",
    "    for option in options:\n",
    "        try:\n",
    "            dict1[option] = Config.get(section, option)\n",
    "            if dict1[option] == -1:\n",
    "                DebugPrint(\"skip: %s\" % option)\n",
    "        except:\n",
    "            print(\"exception on %s!\" % option)\n",
    "            dict1[option] = None\n",
    "    return dict1"
   ]
  },
  {
   "cell_type": "code",
   "execution_count": 137,
   "metadata": {
    "collapsed": false
   },
   "outputs": [
    {
     "name": "stdout",
     "output_type": "stream",
     "text": [
      "0.999390827019 100000\n"
     ]
    }
   ],
   "source": [
    "# set pathes\n",
    "msd_subset_path = ConfigSectionMap(\"MainSection\")['dataset_location']\n",
    "msd_code_path = ConfigSectionMap(\"MainSection\")['code_location']\n",
    "msd_subset_data_path=os.path.join(msd_subset_path,'data')\n",
    "msd_subset_addf_path=os.path.join(msd_subset_path,'AdditionalFiles')\n",
    "assert os.path.isdir(msd_subset_path),'wrong path'\n",
    "assert os.path.isdir(msd_code_path),'wrong path'\n",
    "sys.path.append( os.path.join(msd_code_path,'PythonSrc') )\n",
    "\n",
    "# g65_selctedFeatures stores all the features\n",
    "g65_selectedFeatures =ConfigSectionMap(\"MainSection\")['features'].split(\"<g65SEP>\")\n",
    "num_feature = len(g65_selectedFeatures)\n",
    "\n",
    "# g65_n is number of songs to process\n",
    "g65_n = int(ConfigSectionMap(\"MainSection\")['number_of_songs_to_process'])\n",
    "\n",
    "# g65_r is number of rows in each band\n",
    "g65_r = int(ConfigSectionMap(\"MainSection\")['number_of_rows_each_band'])\n",
    "\n",
    "# g65_b is number of bands\n",
    "g65_b = int(ConfigSectionMap(\"MainSection\")['number_of_bands'])\n",
    "\n",
    "# g65_epsilon is the tolerant difference\n",
    "g65_epsilon = float(ConfigSectionMap(\"MainSection\")['tolerance_diff'])\n",
    "epsilon = cos(2*pi/180)\n",
    "\n",
    "#signiture is the raw value of each song\n",
    "signiture = np.zeros([num_feature,g65_n])\n",
    "\n",
    "#the hashing algorithm used for hashing bands pieces\n",
    "g65_hashalgorithm = ConfigSectionMap(\"MainSection\")['hashalgorithm']\n",
    "print epsilon, g65_n"
   ]
  },
  {
   "cell_type": "code",
   "execution_count": 102,
   "metadata": {
    "collapsed": true
   },
   "outputs": [],
   "source": [
    "import hdf5_getters as GETTERS"
   ]
  },
  {
   "cell_type": "code",
   "execution_count": 103,
   "metadata": {
    "collapsed": false
   },
   "outputs": [],
   "source": [
    "# extract all query features into the signiture matrix\n",
    "s_counter = 0\n",
    "songsIds = [0]*g65_n\n",
    "for root, dirs, files in os.walk(msd_subset_data_path):\n",
    "    files = glob.glob(os.path.join(root,'*'+'.h5'))\n",
    "    for f in files :\n",
    "        if s_counter == g65_n:\n",
    "            break\n",
    "        else:\n",
    "            h5 = GETTERS.open_h5_file_read(f)\n",
    "            f_counter = 0\n",
    "            songsIds[s_counter] = GETTERS.get_song_id(h5)\n",
    "            for features in g65_selectedFeatures:\n",
    "                temp = str(getattr(GETTERS, 'get_'+features)(h5))\n",
    "                signiture[f_counter,s_counter] = temp\n",
    "                f_counter += 1\n",
    "            s_counter += 1\n",
    "            h5.close()\n"
   ]
  },
  {
   "cell_type": "code",
   "execution_count": 142,
   "metadata": {
    "collapsed": false
   },
   "outputs": [
    {
     "name": "stdout",
     "output_type": "stream",
     "text": [
      "(8, 100000)\n"
     ]
    },
    {
     "name": "stderr",
     "output_type": "stream",
     "text": [
      "/home/yuanze/anaconda/lib/python2.7/site-packages/IPython/kernel/__main__.py:7: RuntimeWarning: invalid value encountered in divide\n"
     ]
    }
   ],
   "source": [
    "#print signiture.shape, g65_n\n",
    "signiture = preprocessing.scale(signiture, axis=1)\n",
    "ss = signiture\n",
    "S2 = signiture*signiture\n",
    "sNorm = np.sqrt(S2.sum(axis=0))\n",
    "sNorm = np.matlib.repmat(sNorm,num_feature,1)\n",
    "signiture = ss/sNorm\n",
    "print signiture.shape"
   ]
  },
  {
   "cell_type": "code",
   "execution_count": 141,
   "metadata": {
    "collapsed": false
   },
   "outputs": [
    {
     "name": "stdout",
     "output_type": "stream",
     "text": [
      "0.0\n"
     ]
    }
   ],
   "source": [
    "print np.inner(signiture[:,280],signiture[:,4607])"
   ]
  },
  {
   "cell_type": "markdown",
   "metadata": {},
   "source": [
    "# $Step2$Construct a new signiture matrix M for LSH with cosin distance"
   ]
  },
  {
   "cell_type": "code",
   "execution_count": 109,
   "metadata": {
    "collapsed": false
   },
   "outputs": [
    {
     "name": "stdout",
     "output_type": "stream",
     "text": [
      "(8, 189)\n",
      "(189, 8)\n",
      "(189, 100000)\n"
     ]
    }
   ],
   "source": [
    "vec = np.random.randn(g65_b*g65_r,num_feature)\n",
    "vec2 = vec*vec\n",
    "vecNorm = np.sqrt(vec2.sum(axis=1))\n",
    "vecNorm = np.matlib.repmat(vecNorm,num_feature,1)\n",
    "print vecNorm.shape\n",
    "hashV = vec/vecNorm.T\n",
    "print hashV.shape\n",
    "M = np.sign(hashV.dot(signiture))\n",
    "print M.shape\n",
    "\n",
    "\n"
   ]
  },
  {
   "cell_type": "code",
   "execution_count": null,
   "metadata": {
    "collapsed": false
   },
   "outputs": [],
   "source": []
  },
  {
   "cell_type": "markdown",
   "metadata": {},
   "source": [
    "#$Step3$LSH"
   ]
  },
  {
   "cell_type": "code",
   "execution_count": 144,
   "metadata": {
    "collapsed": false
   },
   "outputs": [
    {
     "name": "stdout",
     "output_type": "stream",
     "text": [
      "4966 0\n"
     ]
    },
    {
     "name": "stderr",
     "output_type": "stream",
     "text": [
      "/home/yuanze/anaconda/lib/python2.7/site-packages/IPython/kernel/__main__.py:33: RuntimeWarning: invalid value encountered in greater\n"
     ]
    }
   ],
   "source": [
    "candidates = 0\n",
    "duplicate_songs = 0\n",
    "num_hash = 1000\n",
    "#amplify = 10000\n",
    "for b in range(g65_b):\n",
    "    \n",
    "    # construct the hashing vector\n",
    "    #v = np.sign(np.random.rand(num_hash,g65_r) - 0.5)\n",
    "    v = (1+np.arange(g65_r))*(1+np.arange(g65_r))\n",
    "\n",
    "    start = b*g65_r\n",
    "    end = (b+1)*g65_r\n",
    "    band = M[start:end,:]\n",
    "    \n",
    "    # hash the signiture matrix into r*2 buckets\n",
    "    score = np.dot(v,band)\n",
    "    vote_max = score.max().astype(int)\n",
    "    vote_min = score.min().astype(int)\n",
    "    \n",
    "#    std = np.std(score,axis=0)\n",
    "#    mean = np.mean(score,axis=0)\n",
    "#    score = np.ceil(amplify*std*mean)\n",
    "#    std_max = score.max().astype(int)\n",
    "#    std_min = score.min().astype(int)\n",
    "\n",
    "    for key in range(vote_min,vote_max):\n",
    "        # find songs hashed to same key\n",
    "        temp = np.where(score==key)\n",
    "        if (len(temp[0])>1 and len(temp[0])<10000):\n",
    "            index = temp[0]\n",
    "            candidates += 1\n",
    "            cosine = np.dot(signiture[:,index].T,signiture[:,index])-np.eye(len(index))\n",
    "            temp_dup = np.where(cosine>0.9)\n",
    "            if (len(temp_dup[0])>0):\n",
    "                x0 = index[temp_dup[0][0]]\n",
    "                y0 = index[temp_dup[1][0]]\n",
    "                print x0, y0\n",
    "            #print len(temp_dup[0])/2, len(index)\n",
    "            duplicate_songs += len(temp_dup[0])/2\n",
    "            \n",
    "print candidates, duplicate_songs"
   ]
  },
  {
   "cell_type": "code",
   "execution_count": 113,
   "metadata": {
    "collapsed": false
   },
   "outputs": [
    {
     "name": "stdout",
     "output_type": "stream",
     "text": [
      "33214 -22344\n"
     ]
    }
   ],
   "source": [
    "print vote_max, vote_min"
   ]
  },
  {
   "cell_type": "code",
   "execution_count": 208,
   "metadata": {
    "collapsed": false
   },
   "outputs": [],
   "source": [
    "def angles(n,m):\n",
    "    np.inner(signiture[:,n],signiture[:,m])/sqrt(np.sum(signiture[:,n]*signiture[:,n])*np.sum(signiture[:,m]*signiture[:,m]))\n",
    "    angle = 180*acos(cos)/pi\n",
    "    return angle"
   ]
  },
  {
   "cell_type": "code",
   "execution_count": 212,
   "metadata": {
    "collapsed": false
   },
   "outputs": [
    {
     "name": "stdout",
     "output_type": "stream",
     "text": [
      "5.56307846922\n"
     ]
    }
   ],
   "source": [
    "print angles(18,69)"
   ]
  },
  {
   "cell_type": "markdown",
   "metadata": {
    "collapsed": true
   },
   "source": [
    "# $Step3$ Hashing bands to buckets"
   ]
  },
  {
   "cell_type": "code",
   "execution_count": null,
   "metadata": {
    "collapsed": false
   },
   "outputs": [],
   "source": [
    "BandsBuckets=[]\n",
    "for i in range(0,g65_b):# for each band\n",
    "    BandsBuckets.append({})\n",
    "    for s in range(0,g65_n):\n",
    "        bandCol = ''.join(str(v) for v in M[g65_r*i:(g65_r*(i+1)-1),s])\n",
    "        bucketKey = (getattr(hashlib, g65_hashalgorithm)(bandCol)).hexdigest()\n",
    "        BandsBuckets[i].setdefault(bucketKey,[]).append(s)\n",
    "        \n",
    "\n",
    "\n",
    "        "
   ]
  },
  {
   "cell_type": "code",
   "execution_count": null,
   "metadata": {
    "collapsed": false
   },
   "outputs": [],
   "source": [
    "BandsBuckets\n",
    "numberOfCandidates=0\n",
    "for band in BandsBuckets:\n",
    "    for key, candidatesList in band.iteritems():#looping over lists in band buckets\n",
    "            if len(candidatesList)>1:\n",
    "                numberOfCandidates+=len(candidatesList)\n",
    "print \"number of candidates: {}\".format( numberOfCandidates )\n",
    "    \n",
    "    "
   ]
  },
  {
   "cell_type": "markdown",
   "metadata": {},
   "source": [
    "\n",
    "# $Step4$ Reporting Duplicates"
   ]
  },
  {
   "cell_type": "code",
   "execution_count": null,
   "metadata": {
    "collapsed": false
   },
   "outputs": [],
   "source": [
    "duplicates = set() # will eventually hold duplicate pairs of songs\n",
    "def calculateCosineAngle(v1,v2):\n",
    "    return  np.dot(v1,v2)/numpy.linalg.norm(v1)/numpy.linalg.norm(v2)"
   ]
  },
  {
   "cell_type": "code",
   "execution_count": null,
   "metadata": {
    "collapsed": false
   },
   "outputs": [],
   "source": [
    "for i in range(0,g65_b):#looping over bands\n",
    "    for band in BandsBuckets:\n",
    "        for key, candidatesList in band.iteritems():#looping over lists in band buckets\n",
    "            if len(candidatesList)>1:#if a list has more than one item\n",
    "                for j in range(0,len(candidatesList)-1):#for each two items in the list \n",
    "                    for k in range(j+1,len(candidatesList)):\n",
    "                        cosine = calculateCosineAngle(signiture[:,candidatesList[j]],signiture[:,candidatesList[k]])#we compute the cosine \n",
    "                        if np.fabs(cosine)> np.cos( g65_epsilon*np.pi  /180.):# if the cosine is >epsilon\n",
    "                            duplicates.add((songsIds[j],songsIds[k])) # we report they are a duplicate\n",
    "                        \n"
   ]
  },
  {
   "cell_type": "markdown",
   "metadata": {},
   "source": [
    "\n",
    "# $Step5$ Reporting Duplicates"
   ]
  },
  {
   "cell_type": "code",
   "execution_count": null,
   "metadata": {
    "collapsed": false
   },
   "outputs": [],
   "source": [
    "\n",
    "print \"number of Duplicates: {}\".format( len(duplicates)*2)"
   ]
  }
 ],
 "metadata": {
  "anaconda-cloud": {},
  "kernelspec": {
   "display_name": "Python 2",
   "language": "python",
   "name": "python2"
  },
  "language_info": {
   "codemirror_mode": {
    "name": "ipython",
    "version": 2
   },
   "file_extension": ".py",
   "mimetype": "text/x-python",
   "name": "python",
   "nbconvert_exporter": "python",
   "pygments_lexer": "ipython2",
   "version": "2.7.12"
  }
 },
 "nbformat": 4,
 "nbformat_minor": 0
}
