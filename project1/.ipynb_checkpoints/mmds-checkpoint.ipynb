{
 "cells": [
  {
   "cell_type": "code",
   "execution_count": 1,
   "metadata": {
    "collapsed": true
   },
   "outputs": [],
   "source": [
    "import os\n",
    "import sys\n",
    "import time\n",
    "import glob\n",
    "import datetime\n",
    "import sqlite3\n",
    "import numpy as np\n",
    "import ConfigParser\n",
    "from nltk import ngrams\n",
    "import hashlib\n",
    "\n"
   ]
  },
  {
   "cell_type": "code",
   "execution_count": 2,
   "metadata": {
    "collapsed": false
   },
   "outputs": [],
   "source": [
    "g65_configFileLocation = './config'\n",
    "Config = ConfigParser.ConfigParser()\n",
    "Config.read(g65_configFileLocation)\n",
    "def ConfigSectionMap(section):\n",
    "    dict1 = {}\n",
    "    options = Config.options(section)\n",
    "    for option in options:\n",
    "        try:\n",
    "            dict1[option] = Config.get(section, option)\n",
    "            if dict1[option] == -1:\n",
    "                DebugPrint(\"skip: %s\" % option)\n",
    "        except:\n",
    "            print(\"exception on %s!\" % option)\n",
    "            dict1[option] = None\n",
    "    return dict1\n",
    "\n",
    "\n"
   ]
  },
  {
   "cell_type": "code",
   "execution_count": 3,
   "metadata": {
    "collapsed": false
   },
   "outputs": [],
   "source": [
    "#reading our configured values\n",
    "msd_subset_path = ConfigSectionMap(\"MainSection\")['datasetlocation']\n",
    "g65_selectedFeatures =ConfigSectionMap(\"MainSection\")['features'].split(\"<g65SEP>\")\n",
    "g65_n = int(ConfigSectionMap(\"MainSection\")['numberofsongstoprocess'])  # number of songs to process\n",
    "g65_k = int(ConfigSectionMap(\"MainSection\")['k'])# number of shingles(grams)\n",
    "g65_hashalgorithm = ConfigSectionMap(\"MainSection\")['hashalgorithm']#hashing algorithm try print(hashlib.algorithms_available) print(hashlib.algorithms_guaranteed) to show all of the available ones"
   ]
  },
  {
   "cell_type": "code",
   "execution_count": 4,
   "metadata": {
    "collapsed": false
   },
   "outputs": [
    {
     "name": "stdout",
     "output_type": "stream",
     "text": [
      "md5\n"
     ]
    }
   ],
   "source": [
    "print g65_hashalgorithm"
   ]
  },
  {
   "cell_type": "code",
   "execution_count": 5,
   "metadata": {
    "collapsed": false
   },
   "outputs": [
    {
     "ename": "AssertionError",
     "evalue": "wrong path",
     "output_type": "error",
     "traceback": [
      "\u001b[1;31m---------------------------------------------------------------------------\u001b[0m",
      "\u001b[1;31mAssertionError\u001b[0m                            Traceback (most recent call last)",
      "\u001b[1;32m<ipython-input-5-1e3f5d90c44f>\u001b[0m in \u001b[0;36m<module>\u001b[1;34m()\u001b[0m\n\u001b[0;32m      2\u001b[0m \u001b[0mmsd_subset_data_path\u001b[0m\u001b[1;33m=\u001b[0m\u001b[0mos\u001b[0m\u001b[1;33m.\u001b[0m\u001b[0mpath\u001b[0m\u001b[1;33m.\u001b[0m\u001b[0mjoin\u001b[0m\u001b[1;33m(\u001b[0m\u001b[0mmsd_subset_path\u001b[0m\u001b[1;33m,\u001b[0m\u001b[1;34m'data'\u001b[0m\u001b[1;33m)\u001b[0m\u001b[1;33m\u001b[0m\u001b[0m\n\u001b[0;32m      3\u001b[0m \u001b[0mmsd_subset_addf_path\u001b[0m\u001b[1;33m=\u001b[0m\u001b[0mos\u001b[0m\u001b[1;33m.\u001b[0m\u001b[0mpath\u001b[0m\u001b[1;33m.\u001b[0m\u001b[0mjoin\u001b[0m\u001b[1;33m(\u001b[0m\u001b[0mmsd_subset_path\u001b[0m\u001b[1;33m,\u001b[0m\u001b[1;34m'AdditionalFiles'\u001b[0m\u001b[1;33m)\u001b[0m\u001b[1;33m\u001b[0m\u001b[0m\n\u001b[1;32m----> 4\u001b[1;33m \u001b[1;32massert\u001b[0m \u001b[0mos\u001b[0m\u001b[1;33m.\u001b[0m\u001b[0mpath\u001b[0m\u001b[1;33m.\u001b[0m\u001b[0misdir\u001b[0m\u001b[1;33m(\u001b[0m\u001b[0mmsd_subset_path\u001b[0m\u001b[1;33m)\u001b[0m\u001b[1;33m,\u001b[0m\u001b[1;34m'wrong path'\u001b[0m\u001b[1;33m\u001b[0m\u001b[0m\n\u001b[0m",
      "\u001b[1;31mAssertionError\u001b[0m: wrong path"
     ]
    }
   ],
   "source": [
    "\n",
    "msd_subset_data_path=os.path.join(msd_subset_path,'data')\n",
    "msd_subset_addf_path=os.path.join(msd_subset_path,'AdditionalFiles')\n",
    "assert os.path.isdir(msd_subset_path),'wrong path'"
   ]
  },
  {
   "cell_type": "code",
   "execution_count": 405,
   "metadata": {
    "collapsed": false
   },
   "outputs": [],
   "source": [
    "msd_code_path=os.path.join(msd_subset_path,'MSongsDB')\n",
    "assert os.path.isdir(msd_code_path),'wrong path'"
   ]
  },
  {
   "cell_type": "code",
   "execution_count": 406,
   "metadata": {
    "collapsed": false
   },
   "outputs": [],
   "source": [
    "sys.path.append( os.path.join(msd_code_path,'PythonSrc') )"
   ]
  },
  {
   "cell_type": "code",
   "execution_count": 407,
   "metadata": {
    "collapsed": false
   },
   "outputs": [],
   "source": [
    "import hdf5_getters as GETTERS\n"
   ]
  },
  {
   "cell_type": "code",
   "execution_count": 408,
   "metadata": {
    "collapsed": true
   },
   "outputs": [],
   "source": [
    "def strtimedelta(starttime,stoptime):\n",
    "    return str(datetime.timedelta(seconds=stoptime-starttime))"
   ]
  },
  {
   "cell_type": "code",
   "execution_count": 409,
   "metadata": {
    "collapsed": false
   },
   "outputs": [],
   "source": [
    "songs = []# will hold all of the processed songs features\n",
    "limitCounter = [0]\n",
    "def apply_to_all_files(basedir,func=lambda x: x,ext='.h5'):\n",
    "    \"\"\"\n",
    "    From a base directory, go through all subdirectories,\n",
    "    find all files with the given extension, apply the\n",
    "    given function 'func' to all of them.\n",
    "    INPUT\n",
    "       basedir  - base directory of the dataset\n",
    "       func     - function to apply to all filenames\n",
    "       ext      - extension, .h5 by default\n",
    "    \"\"\"\n",
    "    songs =[]\n",
    "    # iterate over all files in all subdirectories\n",
    "    for root, dirs, files in os.walk(basedir):\n",
    "        files = glob.glob(os.path.join(root,'*'+ext))\n",
    "        # apply function to all files, quit when we exeed the number of songs to precess n\n",
    "        for f in files :\n",
    "            if limitCounter[0]== g65_n:\n",
    "                return\n",
    "            else:\n",
    "                func(f) \n",
    "            "
   ]
  },
  {
   "cell_type": "code",
   "execution_count": 413,
   "metadata": {
    "collapsed": true
   },
   "outputs": [],
   "source": [
    "# we define the function to apply to all files\n",
    "def func_to_get_artist_name(filename):\n",
    "    \"\"\"\n",
    "    This function does 3 simple things:\n",
    "    - open the song file\n",
    "    - get artist ID and put it\n",
    "    - close the file\n",
    "    \"\"\"\n",
    "    h5 = GETTERS.open_h5_file_read(filename)\n",
    "    artist_name = GETTERS.get_artist_name(h5)\n",
    "    all_artist_names.append( artist_name )\n",
    "    h5.close()\n",
    "    \n",
    "def func_to_get_Selected_features(filename):\n",
    "    \"\"\"\n",
    "    Given a song file name, \n",
    "    this function reads the song file,\n",
    "    gets from it the selected features in our config file,\n",
    "    concatinates them together,\n",
    "    then adds them as a separate n shingles to our global list of songs\n",
    "    \n",
    "    \n",
    "    \"\"\"\n",
    "    h5 = GETTERS.open_h5_file_read(filename)\n",
    "    song =''\n",
    "    for feature in g65_selectedFeatures:\n",
    "        song+=((str(getattr(GETTERS, 'get_'+feature)(h5))+' '))#concatinating the features into one space separated string\n",
    "    songGrams = ngrams(song.split(),g65_k)#creating n shingles out of the space separated File output =list of n shingles elements\n",
    "    song=[]\n",
    "    for grams in songGrams:# for each ngrams element in the list \n",
    "        song.append( getattr(hashlib, g65_hashalgorithm)(''.join(grams)).hexdigest())#I hash them then together and append them to song\n",
    "    songs.append(song)#append the hashed shingles to songs\n",
    "    limitCounter[0]+=1# a counter for how many songs are processed so far\n",
    "    h5.close()\n",
    "    "
   ]
  },
  {
   "cell_type": "code",
   "execution_count": 414,
   "metadata": {
    "collapsed": false
   },
   "outputs": [
    {
     "name": "stdout",
     "output_type": "stream",
     "text": [
      "all of the selected features were returned in: 0:00:00.004800\n"
     ]
    }
   ],
   "source": [
    "t1 = time.time()\n",
    "apply_to_all_files(msd_subset_data_path,func=func_to_get_Selected_features)\n",
    "t2 = time.time()\n",
    "print 'all of the selected features were returned in:',strtimedelta(t1,t2)"
   ]
  },
  {
   "cell_type": "code",
   "execution_count": 418,
   "metadata": {
    "collapsed": false
   },
   "outputs": [
    {
     "name": "stdout",
     "output_type": "stream",
     "text": [
      "587d0dd40b83d6f5628583a8a1e77a34\n",
      "f7ddd489ab0a82567b241b05971cbdb3\n",
      "bd3bfeb3ff74837ffa9118727edade82\n",
      "c69f8f1e8f206f353dc1e4677db220af\n",
      "b30de68786aa715de1d22664c12f06e8\n",
      "f188c17763e14981a4f1be72db7366fc\n",
      "de74dbb9893732ce0748511c826f572f\n",
      "39cf27f2bed68ae51cc735958a487de4\n",
      "9720dc655924528b17bcda523c3e5d48\n",
      "d110b1c5f868beca0a062ec69c67e4d0\n",
      "9f9184562fed30cbe342f7f1913e9da8\n",
      "10725539ae2780e2d173f30cea8d79c5\n",
      "542e18daec9c661fb3e90f724bf07644\n",
      "9b4bc4b195aee738870ccd783034d50f\n"
     ]
    }
   ],
   "source": [
    "\n",
    "#TODO min hashing\n",
    "\n",
    "for s in songs:\n",
    "    for grams in s:\n",
    "        print grams\n",
    "            \n"
   ]
  },
  {
   "cell_type": "code",
   "execution_count": 416,
   "metadata": {
    "collapsed": false
   },
   "outputs": [
    {
     "data": {
      "text/plain": [
       "['__builtins__',\n",
       " '__doc__',\n",
       " '__file__',\n",
       " '__name__',\n",
       " '__package__',\n",
       " '__warningregistry__',\n",
       " 'get_analysis_sample_rate',\n",
       " 'get_artist_7digitalid',\n",
       " 'get_artist_familiarity',\n",
       " 'get_artist_hotttnesss',\n",
       " 'get_artist_id',\n",
       " 'get_artist_latitude',\n",
       " 'get_artist_location',\n",
       " 'get_artist_longitude',\n",
       " 'get_artist_mbid',\n",
       " 'get_artist_mbtags',\n",
       " 'get_artist_mbtags_count',\n",
       " 'get_artist_name',\n",
       " 'get_artist_playmeid',\n",
       " 'get_artist_terms',\n",
       " 'get_artist_terms_freq',\n",
       " 'get_artist_terms_weight',\n",
       " 'get_audio_md5',\n",
       " 'get_bars_confidence',\n",
       " 'get_bars_start',\n",
       " 'get_beats_confidence',\n",
       " 'get_beats_start',\n",
       " 'get_danceability',\n",
       " 'get_duration',\n",
       " 'get_end_of_fade_in',\n",
       " 'get_energy',\n",
       " 'get_key',\n",
       " 'get_key_confidence',\n",
       " 'get_loudness',\n",
       " 'get_mode',\n",
       " 'get_mode_confidence',\n",
       " 'get_num_songs',\n",
       " 'get_release',\n",
       " 'get_release_7digitalid',\n",
       " 'get_sections_confidence',\n",
       " 'get_sections_start',\n",
       " 'get_segments_confidence',\n",
       " 'get_segments_loudness_max',\n",
       " 'get_segments_loudness_max_time',\n",
       " 'get_segments_loudness_start',\n",
       " 'get_segments_pitches',\n",
       " 'get_segments_start',\n",
       " 'get_segments_timbre',\n",
       " 'get_similar_artists',\n",
       " 'get_song_hotttnesss',\n",
       " 'get_song_id',\n",
       " 'get_start_of_fade_out',\n",
       " 'get_tatums_confidence',\n",
       " 'get_tatums_start',\n",
       " 'get_tempo',\n",
       " 'get_time_signature',\n",
       " 'get_time_signature_confidence',\n",
       " 'get_title',\n",
       " 'get_track_7digitalid',\n",
       " 'get_track_id',\n",
       " 'get_year',\n",
       " 'open_h5_file_read',\n",
       " 'tables']"
      ]
     },
     "execution_count": 416,
     "metadata": {},
     "output_type": "execute_result"
    }
   ],
   "source": [
    "dir(GETTERS)\n"
   ]
  },
  {
   "cell_type": "code",
   "execution_count": null,
   "metadata": {
    "collapsed": true
   },
   "outputs": [],
   "source": []
  }
 ],
 "metadata": {
  "anaconda-cloud": {},
  "kernelspec": {
   "display_name": "Python 2",
   "language": "python",
   "name": "python2"
  },
  "language_info": {
   "codemirror_mode": {
    "name": "ipython",
    "version": 2
   },
   "file_extension": ".py",
   "mimetype": "text/x-python",
   "name": "python",
   "nbconvert_exporter": "python",
   "pygments_lexer": "ipython2",
   "version": "2.7.12"
  }
 },
 "nbformat": 4,
 "nbformat_minor": 0
}
