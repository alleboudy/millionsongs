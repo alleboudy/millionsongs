{
 "cells": [
  {
   "cell_type": "code",
   "execution_count": 1,
   "metadata": {
    "collapsed": false
   },
   "outputs": [],
   "source": [
    "import os\n",
    "import sys\n",
    "import time\n",
    "import glob\n",
    "import datetime\n",
    "import sqlite3\n",
    "import numpy as np\n",
    "import ConfigParser\n",
    "from nltk import ngrams\n",
    "import hashlib\n",
    "import numpy.matlib"
   ]
  },
  {
   "cell_type": "markdown",
   "metadata": {},
   "source": [
    "$Step 1$\n",
    "Read parameters from the config file"
   ]
  },
  {
   "cell_type": "code",
   "execution_count": 2,
   "metadata": {
    "collapsed": true
   },
   "outputs": [],
   "source": [
    "g65_configFileLocation = './config'\n",
    "Config = ConfigParser.ConfigParser()\n",
    "Config.read(g65_configFileLocation)\n",
    "def ConfigSectionMap(section):\n",
    "    dict1 = {}\n",
    "    options = Config.options(section)\n",
    "    for option in options:\n",
    "        try:\n",
    "            dict1[option] = Config.get(section, option)\n",
    "            if dict1[option] == -1:\n",
    "                DebugPrint(\"skip: %s\" % option)\n",
    "        except:\n",
    "            print(\"exception on %s!\" % option)\n",
    "            dict1[option] = None\n",
    "    return dict1"
   ]
  },
  {
   "cell_type": "code",
   "execution_count": 3,
   "metadata": {
    "collapsed": false
   },
   "outputs": [],
   "source": [
    "# set pathes\n",
    "msd_subset_path = ConfigSectionMap(\"MainSection\")['dataset_location']\n",
    "msd_code_path = ConfigSectionMap(\"MainSection\")['code_location']\n",
    "msd_subset_data_path=os.path.join(msd_subset_path,'data')\n",
    "msd_subset_addf_path=os.path.join(msd_subset_path,'AdditionalFiles')\n",
    "assert os.path.isdir(msd_subset_path),'wrong path'\n",
    "assert os.path.isdir(msd_code_path),'wrong path'\n",
    "sys.path.append( os.path.join(msd_code_path,'PythonSrc') )\n",
    "\n",
    "# g65_selctedFeatures stores all the features\n",
    "g65_selectedFeatures =ConfigSectionMap(\"MainSection\")['features'].split(\"<g65SEP>\")\n",
    "num_feature = len(g65_selectedFeatures)\n",
    "\n",
    "# g65_n is number of songs to process\n",
    "g65_n = int(ConfigSectionMap(\"MainSection\")['number_of_songs_to_process'])\n",
    "\n",
    "# g65_r is number of rows in each band\n",
    "g65_r = int(ConfigSectionMap(\"MainSection\")['number_of_rows_each_band'])\n",
    "\n",
    "# g65_b is number of bands\n",
    "g65_b = int(ConfigSectionMap(\"MainSection\")['number_of_bands'])\n",
    "\n",
    "# g65_epsilon is the tolerant difference\n",
    "g65_epsilon = int(ConfigSectionMap(\"MainSection\")['tolerance_diff'])\n",
    "\n",
    "#signiture is the raw value of each song\n",
    "signiture = np.zeros([num_feature,g65_n])"
   ]
  },
  {
   "cell_type": "code",
   "execution_count": 4,
   "metadata": {
    "collapsed": true
   },
   "outputs": [],
   "source": [
    "import hdf5_getters as GETTERS"
   ]
  },
  {
   "cell_type": "code",
   "execution_count": 5,
   "metadata": {
    "collapsed": false
   },
   "outputs": [
    {
     "name": "stdout",
     "output_type": "stream",
     "text": [
      "[[  1.77501590e+02   2.56730980e+02   3.40793020e+02 ...,   2.59839550e+02\n",
      "    2.24574240e+02   1.64544850e+02]\n",
      " [  0.00000000e+00   0.00000000e+00   2.87000000e-01 ...,   0.00000000e+00\n",
      "    4.76600000e+00   0.00000000e+00]\n",
      " [  0.00000000e+00   1.10000000e+01   6.00000000e+00 ...,   1.10000000e+01\n",
      "    0.00000000e+00   4.00000000e+00]\n",
      " ..., \n",
      " [  1.74237000e+02   2.45412000e+02   3.24795000e+02 ...,   2.52865000e+02\n",
      "    2.20665000e+02   1.59643000e+02]\n",
      " [  1.26202000e+02   1.20103000e+02   1.10058000e+02 ...,   1.19992000e+02\n",
      "    1.39487000e+02   1.07288000e+02]\n",
      " [  4.00000000e+00   4.00000000e+00   1.00000000e+00 ...,   4.00000000e+00\n",
      "    4.00000000e+00   3.00000000e+00]]\n"
     ]
    }
   ],
   "source": [
    "# extract all query features into the signiture matrix\n",
    "s_counter = 0\n",
    "for root, dirs, files in os.walk(msd_subset_data_path):\n",
    "    files = glob.glob(os.path.join(root,'*'+'.h5'))\n",
    "    for f in files :\n",
    "        if s_counter == g65_n:\n",
    "            break\n",
    "        else:\n",
    "            h5 = GETTERS.open_h5_file_read(f)\n",
    "            f_counter = 0\n",
    "            for features in g65_selectedFeatures:\n",
    "                temp = str(getattr(GETTERS, 'get_'+features)(h5))\n",
    "                signiture[f_counter,s_counter] = temp\n",
    "                f_counter += 1\n",
    "            s_counter += 1\n",
    "            h5.close()\n",
    "#print signiture"
   ]
  },
  {
   "cell_type": "markdown",
   "metadata": {},
   "source": [
    "$Step2$\n",
    "Construct a new signiture matrix M for LSH with cosin distance"
   ]
  },
  {
   "cell_type": "code",
   "execution_count": 6,
   "metadata": {
    "collapsed": false
   },
   "outputs": [
    {
     "name": "stdout",
     "output_type": "stream",
     "text": [
      "[[ 1.  1.  1. ...,  1.  1.  1.]\n",
      " [-1. -1. -1. ..., -1. -1. -1.]\n",
      " [-1. -1. -1. ..., -1. -1. -1.]\n",
      " ..., \n",
      " [ 1.  1.  1. ...,  1.  1.  1.]\n",
      " [-1. -1. -1. ..., -1. -1. -1.]\n",
      " [-1. -1. -1. ..., -1. -1. -1.]] (60, 1000)\n"
     ]
    }
   ],
   "source": [
    "vec = np.random.randn(g65_b*g65_r,num_feature)\n",
    "vec2 = vec*vec\n",
    "vecNorm = np.sqrt(vec2.sum(axis=1))\n",
    "vecNorm = np.matlib.repmat(vecNorm,num_feature,1)\n",
    "hashV = vecNorm.T/vec\n",
    "M = np.sign(hashV.dot(signiture))\n",
    "#print M, M.shape\n"
   ]
  },
  {
   "cell_type": "code",
   "execution_count": null,
   "metadata": {
    "collapsed": true
   },
   "outputs": [],
   "source": []
  }
 ],
 "metadata": {
  "anaconda-cloud": {},
  "kernelspec": {
   "display_name": "Python [default]",
   "language": "python",
   "name": "python2"
  },
  "language_info": {
   "codemirror_mode": {
    "name": "ipython",
    "version": 2
   },
   "file_extension": ".py",
   "mimetype": "text/x-python",
   "name": "python",
   "nbconvert_exporter": "python",
   "pygments_lexer": "ipython2",
   "version": "2.7.12"
  }
 },
 "nbformat": 4,
 "nbformat_minor": 0
}
