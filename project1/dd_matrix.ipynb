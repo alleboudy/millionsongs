{
 "cells": [
  {
   "cell_type": "code",
   "execution_count": 1,
   "metadata": {
    "collapsed": false
   },
   "outputs": [],
   "source": [
    "import os\n",
    "import sys\n",
    "import time\n",
    "import glob\n",
    "import datetime\n",
    "import sqlite3\n",
    "import numpy as np\n",
    "import configparser\n",
    "from nltk import ngrams\n",
    "import hashlib\n",
    "import numpy.matlib\n",
    "from sklearn import preprocessing\n",
    "from math import cos, sqrt, pi, ceil\n"
   ]
  },
  {
   "cell_type": "markdown",
   "metadata": {},
   "source": [
    "# $Step 1$Read parameters from the config file"
   ]
  },
  {
   "cell_type": "code",
   "execution_count": 2,
   "metadata": {
    "collapsed": false
   },
   "outputs": [],
   "source": [
    "g65_configFileLocation = './config'\n",
    "Config = configparser.ConfigParser()\n",
    "Config.read(g65_configFileLocation)\n",
    "def ConfigSectionMap(section):\n",
    "    dict1 = {}\n",
    "    options = Config.options(section)\n",
    "    for option in options:\n",
    "        try:\n",
    "            dict1[option] = Config.get(section, option)\n",
    "            if dict1[option] == -1:\n",
    "                DebugPrint(\"skip: %s\" % option)\n",
    "        except:\n",
    "            print(\"exception on %s!\" % option)\n",
    "            dict1[option] = None\n",
    "    return dict1"
   ]
  },
  {
   "cell_type": "code",
   "execution_count": 3,
   "metadata": {
    "collapsed": false
   },
   "outputs": [
    {
     "name": "stdout",
     "output_type": "stream",
     "text": [
      "0.9996573249755573 100000 9\n"
     ]
    }
   ],
   "source": [
    "# set pathes\n",
    "msd_subset_path = ConfigSectionMap(\"MainSection\")['dataset_location']\n",
    "msd_code_path = ConfigSectionMap(\"MainSection\")['code_location']\n",
    "msd_subset_data_path=os.path.join(msd_subset_path,'data')\n",
    "msd_subset_addf_path=os.path.join(msd_subset_path,'AdditionalFiles')\n",
    "assert os.path.isdir(msd_subset_path),'wrong path'\n",
    "assert os.path.isdir(msd_code_path),'wrong path'\n",
    "sys.path.append( os.path.join(msd_code_path,'PythonSrc') )\n",
    "\n",
    "# g65_selctedFeatures stores all the features\n",
    "g65_selectedFeatures =ConfigSectionMap(\"MainSection\")['features'].split(\",\")\n",
    "num_feature = len(g65_selectedFeatures)\n",
    "\n",
    "# g65_n is number of songs to process\n",
    "g65_n = int(ConfigSectionMap(\"MainSection\")['number_of_songs_to_process'])\n",
    "\n",
    "# g65_r is number of rows in each band\n",
    "g65_r = int(ConfigSectionMap(\"MainSection\")['number_of_rows_each_band'])\n",
    "\n",
    "# g65_b is number of bands\n",
    "g65_b = int(ConfigSectionMap(\"MainSection\")['number_of_bands'])\n",
    "\n",
    "# g65_epsilon is the tolerant difference\n",
    "g65_epsilon = float(ConfigSectionMap(\"MainSection\")['tolerance_diff'])\n",
    "epsilon = cos(g65_epsilon*pi/180)\n",
    "\n",
    "#signiture is the raw value of each song\n",
    "signiture = np.zeros([num_feature,g65_n])\n",
    "\n",
    "#the hashing algorithm used for hashing bands pieces\n",
    "g65_hashalgorithm = ConfigSectionMap(\"MainSection\")['hashalgorithm']\n",
    "print (epsilon, g65_n, num_feature)"
   ]
  },
  {
   "cell_type": "code",
   "execution_count": 4,
   "metadata": {
    "collapsed": true
   },
   "outputs": [],
   "source": [
    "import hdf5_getters as GETTERS"
   ]
  },
  {
   "cell_type": "code",
   "execution_count": 5,
   "metadata": {
    "collapsed": false
   },
   "outputs": [],
   "source": [
    "# extract all query features into the signiture matrix\n",
    "s_counter = 0\n",
    "songsIds = [0]*g65_n\n",
    "string_f = 0\n",
    "for root, dirs, files in os.walk(msd_subset_data_path):\n",
    "    files = glob.glob(os.path.join(root,'*'+'.h5'))\n",
    "    for f in files :\n",
    "        if s_counter == g65_n:\n",
    "            break\n",
    "        else:\n",
    "            h5 = GETTERS.open_h5_file_read(f)\n",
    "            f_counter = 0\n",
    "            songsIds[s_counter] = GETTERS.get_song_id(h5)\n",
    "            for features in g65_selectedFeatures:\n",
    "                temp = str(getattr(GETTERS, 'get_'+features)(h5))\n",
    "                signiture[f_counter,s_counter] = temp\n",
    "                f_counter += 1\n",
    "            s_counter += 1\n",
    "            h5.close()\n"
   ]
  },
  {
   "cell_type": "code",
   "execution_count": 6,
   "metadata": {
    "collapsed": false
   },
   "outputs": [],
   "source": [
    "#print signiture.shape, g65_n\n",
    "#signiture = preprocessing.scale(signiture, axis=1) \n",
    "#along each row i.e standardizing the features values of all songs\n",
    "#ss = signiture\n",
    "#S2 = signiture*signiture\n",
    "#sNorm = np.sqrt(S2.sum(axis=0)/len(S2))\n",
    "#sNorm = np.matlib.repmat(sNorm,num_feature,1)\n",
    "#signiture = (ss-np.mean(ss,axis=0))/sNorm\n",
    "#print (signiture.shape)\n",
    "\n",
    "\n",
    "\n",
    "######old code:\n",
    "#\n",
    "signiture = preprocessing.scale(signiture, axis=1) ll songs\n",
    "ss = signiture\n",
    "S2 = signiture*signiture\n",
    "sNorm = np.sqrt(S2.sum(axis=0))\n",
    "sNorm = np.matlib.repmat(sNorm,num_feature,1)\n",
    "signiture = ss/sNorm\n",
    "#print signiture.shape"
   ]
  },
  {
   "cell_type": "markdown",
   "metadata": {},
   "source": [
    "# $Step2$Construct a new signiture matrix M for LSH with cosin distance"
   ]
  },
  {
   "cell_type": "code",
   "execution_count": 7,
   "metadata": {
    "collapsed": false
   },
   "outputs": [
    {
     "name": "stdout",
     "output_type": "stream",
     "text": [
      "(9, 189)\n",
      "(189, 9)\n",
      "(189, 100000)\n"
     ]
    }
   ],
   "source": [
    "vec = np.random.randn(g65_b*g65_r,num_feature)\n",
    "vec2 = vec*vec\n",
    "vecNorm = np.sqrt(vec2.sum(axis=1))\n",
    "vecNorm = np.matlib.repmat(vecNorm,num_feature,1)\n",
    "print (vecNorm.shape)\n",
    "hashV = vec/vecNorm.T\n",
    "print (hashV.shape)\n",
    "M = np.sign(hashV.dot(signiture))\n",
    "print (M.shape)"
   ]
  },
  {
   "cell_type": "markdown",
   "metadata": {},
   "source": [
    "# $Step3$LSH"
   ]
  },
  {
   "cell_type": "code",
   "execution_count": 8,
   "metadata": {
    "collapsed": false
   },
   "outputs": [
    {
     "name": "stdout",
     "output_type": "stream",
     "text": [
      "0.999559860119384\n"
     ]
    }
   ],
   "source": [
    "epsilon = cos(1.7*pi/180)\n",
    "print (epsilon)"
   ]
  },
  {
   "cell_type": "code",
   "execution_count": 9,
   "metadata": {
    "collapsed": false
   },
   "outputs": [
    {
     "name": "stdout",
     "output_type": "stream",
     "text": [
      "5643 25.0\n"
     ]
    }
   ],
   "source": [
    "candidates = 0\n",
    "duplicate_songs = set()\n",
    "num_hash = 1000\n",
    "#amplify = 10000\n",
    "for b in range(g65_b):\n",
    "    \n",
    "    # construct the hashing vector\n",
    "    v = (1+np.arange(g65_r))*(1+np.arange(g65_r))\n",
    "\n",
    "    start = b*g65_r\n",
    "    end = (b+1)*g65_r\n",
    "    band = M[start:end,:]\n",
    "    \n",
    "    # hash the signiture matrix into r*2 buckets\n",
    "    score = np.dot(v,band)\n",
    "    vote_max = score.max().astype(int)\n",
    "    vote_min = score.min().astype(int)\n",
    "\n",
    "    for key in range(vote_min,vote_max):\n",
    "        \n",
    "        # find songs hashed to same key\n",
    "        temp = np.where(score==key)\n",
    "        if (len(temp[0])>1 and len(temp[0])<10000):\n",
    "            index = temp[0]\n",
    "            candidates += 1\n",
    "            cosine = np.dot(signiture[:,index].T,signiture[:,index])-np.eye(len(index))\n",
    "            temp_dup = np.where(cosine>epsilon)\n",
    "            for i in range(len(temp_dup[0])):\n",
    "                duplicate_songs.add((index[temp_dup[0][i]],index[temp_dup[1][i]]))\n",
    "            \n"
   ]
  },
  {
   "cell_type": "markdown",
   "metadata": {},
   "source": [
    "# Results:"
   ]
  },
  {
   "cell_type": "code",
   "execution_count": 15,
   "metadata": {
    "collapsed": false
   },
   "outputs": [
    {
     "name": "stdout",
     "output_type": "stream",
     "text": [
      "Number of Candidates: 5643\r\n",
      "Numberof Duplicates: 25\n"
     ]
    }
   ],
   "source": [
    "print(\"Number of Candidates: {}\\r\\nNumberof Duplicates: {}\".format(candidates,int(len(duplicate_songs)/2)))"
   ]
  },
  {
   "cell_type": "code",
   "execution_count": 10,
   "metadata": {
    "collapsed": false
   },
   "outputs": [],
   "source": [
    "#print (duplicate_songs)\n",
    "#print (np.inner(signiture[:,3854],signiture[:,7436]))"
   ]
  },
  {
   "cell_type": "code",
   "execution_count": 11,
   "metadata": {
    "collapsed": false
   },
   "outputs": [],
   "source": [
    "def angles(n,m):\n",
    "    np.inner(signiture[:,n],signiture[:,m])/sqrt(np.sum(signiture[:,n]*signiture[:,n])*np.sum(signiture[:,m]*signiture[:,m]))\n",
    "    angle = 180*acos(cos)/pi\n",
    "    return angle"
   ]
  }
 ],
 "metadata": {
  "anaconda-cloud": {},
  "kernelspec": {
   "display_name": "Python 2",
   "language": "python",
   "name": "python2"
  },
  "language_info": {
   "codemirror_mode": {
    "name": "ipython",
    "version": 2
   },
   "file_extension": ".py",
   "mimetype": "text/x-python",
   "name": "python",
   "nbconvert_exporter": "python",
   "pygments_lexer": "ipython2",
   "version": "2.7.12"
  }
 },
 "nbformat": 4,
 "nbformat_minor": 0
}
