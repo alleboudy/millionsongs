{
 "cells": [
  {
   "cell_type": "markdown",
   "metadata": {
    "collapsed": false
   },
   "source": [
    "# Imports"
   ]
  },
  {
   "cell_type": "code",
   "execution_count": 17,
   "metadata": {
    "collapsed": false
   },
   "outputs": [],
   "source": [
    "import zipfile\n",
    "import json\n",
    "from scipy import sparse\n",
    "import numpy as np\n",
    "import time\n"
   ]
  },
  {
   "cell_type": "markdown",
   "metadata": {
    "collapsed": false
   },
   "source": [
    "# Dataset path"
   ]
  },
  {
   "cell_type": "code",
   "execution_count": 18,
   "metadata": {
    "collapsed": false
   },
   "outputs": [],
   "source": [
    "datadirectory=\"/home/leboudy/Downloads/lastfm_train.zip\"\n",
    "dataset = zipfile.ZipFile(datadirectory)"
   ]
  },
  {
   "cell_type": "markdown",
   "metadata": {},
   "source": [
    "# global variables initialization\n"
   ]
  },
  {
   "cell_type": "code",
   "execution_count": 19,
   "metadata": {
    "collapsed": true
   },
   "outputs": [],
   "source": [
    "songId=0\n",
    "t=0\n",
    "g=50\n",
    "beta=0.2\n",
    "categories =[\"Technical Death Metal\"]\n",
    "S =0#[]\n",
    "id2songJsonMap = []\n",
    "id2songIdMap = {}\n",
    "fhat=[]\n",
    "n=5 #top songs to report\n",
    "#limitingCounter = 1000\n"
   ]
  },
  {
   "cell_type": "markdown",
   "metadata": {},
   "source": [
    "# Loading data\n"
   ]
  },
  {
   "cell_type": "code",
   "execution_count": null,
   "metadata": {
    "collapsed": false
   },
   "outputs": [],
   "source": [
    "start_time = time.time()\n",
    "for i in dataset.namelist():\n",
    "    if  i.endswith(\".json\"): #songId<limitingCounter and \n",
    "        f = json.loads(dataset.read(i).decode(\"utf-8\"))\n",
    "        if  f[\"track_id\"] not in id2songIdMap.keys():\n",
    "            id2songIdMap[f[\"track_id\"]] = songId\n",
    "            tempcategories = set(categories)#will keep removing tags from it\n",
    "            newtags=[]\n",
    "            for tag in f[\"tags\"]:#looping over tags\n",
    "                if int(tag[1]) >g:#filters out those <g\n",
    "                    newtags.append(tag)#keeping >g\n",
    "                    if tag[0] in tempcategories:#if it is in the tempcategories\n",
    "                        tempcategories.remove(tag[0])#removing it\n",
    "            f[\"tags\"] = newtags\n",
    "            id2songJsonMap.append(f)\n",
    "            #songTags= [t[0] for t in f[\"tags\"]]\n",
    "            #if len(list(filter(lambda x: x in categories,songTags )) ) == len(categories):\n",
    "            if len(tempcategories)==0:#meaning we encountered all of the tags\n",
    "                S+=1#.append(songId)\n",
    "                fhat.append(1)\n",
    "            else:\n",
    "                fhat.append(0)\n",
    "            songId+=1 \n",
    "            \n",
    "print(\"--- %s seconds ---\" % (time.time() - start_time))"
   ]
  },
  {
   "cell_type": "markdown",
   "metadata": {},
   "source": [
    "# initializing the teleportation probablilities\n"
   ]
  },
  {
   "cell_type": "code",
   "execution_count": 8,
   "metadata": {
    "collapsed": false
   },
   "outputs": [],
   "source": [
    "#_fhat=np.array()\n",
    "#_fhat.shape=(songId,1)\n",
    "#fhat=(1/len(S))*np.array(fhat)\n",
    "fhat=(1/S)*np.array(fhat)"
   ]
  },
  {
   "cell_type": "markdown",
   "metadata": {},
   "source": [
    "# Building the glorious Adjacency matrix\n"
   ]
  },
  {
   "cell_type": "code",
   "execution_count": 9,
   "metadata": {
    "collapsed": false
   },
   "outputs": [],
   "source": [
    "start_time = time.time()\n",
    "col=[]\n",
    "row=[]\n",
    "data=[]\n",
    "for i in range( len(id2songJsonMap)):\n",
    "    for s in id2songJsonMap[i][\"similars\"]:\n",
    "        if s[0] in id2songIdMap.keys() and s[1]>=t:\n",
    "            col.append(i)\n",
    "            row.append(id2songIdMap[s[0]])\n",
    "            data.append(1)\n",
    "    \n",
    "    \n",
    "    \n",
    "\n",
    "        \n",
    "print(\"--- %s seconds ---\" % (time.time() - start_time))        \n"
   ]
  },
  {
   "cell_type": "code",
   "execution_count": 10,
   "metadata": {
    "collapsed": false
   },
   "outputs": [],
   "source": [
    "A = sparse.csr_matrix((data, (row, col)),shape=(songId, songId))"
   ]
  },
  {
   "cell_type": "markdown",
   "metadata": {},
   "source": [
    "# Randomly initializing r\n"
   ]
  },
  {
   "cell_type": "code",
   "execution_count": 11,
   "metadata": {
    "collapsed": false
   },
   "outputs": [],
   "source": [
    "r =np.random.rand(A.shape[0])\n",
    "r=r/np.sum(r)"
   ]
  },
  {
   "cell_type": "code",
   "execution_count": 12,
   "metadata": {
    "collapsed": false
   },
   "outputs": [
    {
     "name": "stdout",
     "output_type": "stream",
     "text": [
      "9330\n",
      "(9330, 9330)\n",
      "9330\n",
      "1\n",
      "9330\n"
     ]
    }
   ],
   "source": [
    "print(len(id2songJsonMap))\n",
    "print (A.shape)\n",
    "print(songId)\n",
    "print (S)\n",
    "print (songId)"
   ]
  },
  {
   "cell_type": "code",
   "execution_count": 13,
   "metadata": {
    "collapsed": true
   },
   "outputs": [],
   "source": [
    "#r = beta * A.multiply(r)+(1-beta)*fhat"
   ]
  },
  {
   "cell_type": "markdown",
   "metadata": {},
   "source": [
    "# Power Iterations\n"
   ]
  },
  {
   "cell_type": "code",
   "execution_count": 14,
   "metadata": {
    "collapsed": false
   },
   "outputs": [],
   "source": [
    "for i in range(100):\n",
    "    r=A.multiply(beta).dot(r)+fhat*(1-beta)"
   ]
  },
  {
   "cell_type": "markdown",
   "metadata": {},
   "source": [
    "# Reporting the top n songs\n"
   ]
  },
  {
   "cell_type": "code",
   "execution_count": 15,
   "metadata": {
    "collapsed": false
   },
   "outputs": [],
   "source": [
    "topIndecs = r.argsort()[-n:][::-1]\n"
   ]
  },
  {
   "cell_type": "code",
   "execution_count": 16,
   "metadata": {
    "collapsed": false
   },
   "outputs": [
    {
     "name": "stdout",
     "output_type": "stream",
     "text": [
      "TRACLRS12903CE9386\n",
      "TRAZDQQ128F93590E2\n",
      "TRBGKZD12903D13D23\n",
      "TRAQTYT12903D134AC\n",
      "TRAYWHE128F92E9D6A\n"
     ]
    }
   ],
   "source": [
    "for item in topIndecs:\n",
    "    print (id2songJsonMap[item][\"track_id\"])"
   ]
  },
  {
   "cell_type": "code",
   "execution_count": 70,
   "metadata": {
    "collapsed": false
   },
   "outputs": [
    {
     "name": "stdout",
     "output_type": "stream",
     "text": [
      "[ 197 9294 5375 6523 2346]\n"
     ]
    }
   ],
   "source": [
    "print (topIndecs)"
   ]
  },
  {
   "cell_type": "code",
   "execution_count": null,
   "metadata": {
    "collapsed": true
   },
   "outputs": [],
   "source": []
  }
 ],
 "metadata": {
  "anaconda-cloud": {},
  "kernelspec": {
   "display_name": "Python [conda env:python3]",
   "language": "python",
   "name": "conda-env-python3-py"
  },
  "language_info": {
   "codemirror_mode": {
    "name": "ipython",
    "version": 3
   },
   "file_extension": ".py",
   "mimetype": "text/x-python",
   "name": "python",
   "nbconvert_exporter": "python",
   "pygments_lexer": "ipython3",
   "version": "3.5.2"
  }
 },
 "nbformat": 4,
 "nbformat_minor": 1
}
