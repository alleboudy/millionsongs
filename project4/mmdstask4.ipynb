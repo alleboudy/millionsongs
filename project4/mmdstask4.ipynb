{
 "cells": [
  {
   "cell_type": "code",
   "execution_count": 1,
   "metadata": {
    "collapsed": false
   },
   "outputs": [],
   "source": [
    "import os\n",
    "import zipfile\n",
    "import json\n",
    "from scipy import sparse\n",
    "import numpy as np\n",
    "import codecs\n",
    "#reader = codecs.getreader(\"utf-8\")"
   ]
  },
  {
   "cell_type": "code",
   "execution_count": 2,
   "metadata": {
    "collapsed": false
   },
   "outputs": [],
   "source": [
    "datadirectory=\"C:\\\\Users\\\\ahmad\\\\Desktop\\\\mmds\\\\lastfm_test.zip\"\n",
    "dataset = zipfile.ZipFile(datadirectory)"
   ]
  },
  {
   "cell_type": "code",
   "execution_count": 3,
   "metadata": {
    "collapsed": true
   },
   "outputs": [],
   "source": [
    "songId=0\n",
    "t=0\n",
    "g=50\n",
    "beta=0.2\n",
    "categories =[\"Hip-Hop\"]\n",
    "S =[]\n",
    "id2songJsonMap = []\n",
    "id2songIdMap = {}\n",
    "fhat=[]\n",
    "#limitingCounter = 1000"
   ]
  },
  {
   "cell_type": "code",
   "execution_count": 4,
   "metadata": {
    "collapsed": false
   },
   "outputs": [],
   "source": [
    "\n",
    "for i in dataset.namelist():\n",
    "    if  i.endswith(\".json\"): #songId<limitingCounter and \n",
    "        f = json.loads(dataset.read(i).decode(\"utf-8\"))\n",
    "        if  f[\"track_id\"] not in id2songIdMap.keys():\n",
    "            id2songIdMap[f[\"track_id\"]] = songId\n",
    "            tempcategories = set(categories)#will keep removing tags from it\n",
    "            newtags=[]\n",
    "            for tag in f[\"tags\"]:#looping over tags\n",
    "                if int(tag[1]) >g:#filters out those <g\n",
    "                    newtags.append(tag)#keeping >g\n",
    "                    if tag[0] in tempcategories:#if it is in the tempcategories\n",
    "                        tempcategories.remove(tag[0])#removing it\n",
    "            f[\"tags\"] = newtags\n",
    "            id2songJsonMap.append(f)\n",
    "            #songTags= [t[0] for t in f[\"tags\"]]\n",
    "            #if len(list(filter(lambda x: x in categories,songTags )) ) == len(categories):\n",
    "            if len(tempcategories)==0:#meaning we encountered all of the tags\n",
    "                S.append(songId)\n",
    "                fhat.append(1)\n",
    "            else:\n",
    "                fhat.append(0)\n",
    "            songId+=1 "
   ]
  },
  {
   "cell_type": "code",
   "execution_count": 5,
   "metadata": {
    "collapsed": false
   },
   "outputs": [],
   "source": [
    "fhat=(1/len(S))*np.array(fhat)"
   ]
  },
  {
   "cell_type": "code",
   "execution_count": 6,
   "metadata": {
    "collapsed": false
   },
   "outputs": [],
   "source": [
    "col=[]\n",
    "row=[]\n",
    "data=[]\n",
    "for i in range( len(id2songJsonMap)):\n",
    "    for s in id2songJsonMap[i][\"similars\"]:\n",
    "        if s[0] in id2songIdMap.keys() and s[1]>=t:\n",
    "            col.append(i)\n",
    "            row.append(id2songIdMap[s[0]])\n",
    "            data.append(1)\n",
    "    \n",
    "    \n",
    "    \n",
    "\n",
    "        \n",
    "        \n",
    "    "
   ]
  },
  {
   "cell_type": "code",
   "execution_count": 7,
   "metadata": {
    "collapsed": false
   },
   "outputs": [],
   "source": [
    "A = sparse.csr_matrix((data, (row, col)),shape=(104212, 104212))"
   ]
  },
  {
   "cell_type": "code",
   "execution_count": 8,
   "metadata": {
    "collapsed": false
   },
   "outputs": [],
   "source": [
    "r =np.random.rand(A.shape[0],1)\n",
    "r=r/np.sum(r)"
   ]
  },
  {
   "cell_type": "code",
   "execution_count": 9,
   "metadata": {
    "collapsed": false
   },
   "outputs": [
    {
     "name": "stdout",
     "output_type": "stream",
     "text": [
      "104212\n",
      "(104212, 104212)\n",
      "104212\n",
      "1214\n",
      "104212\n"
     ]
    }
   ],
   "source": [
    "print(len(id2songJsonMap))\n",
    "print (A.shape)\n",
    "print(songId)\n",
    "print (len(S))\n",
    "print (songId)"
   ]
  },
  {
   "cell_type": "code",
   "execution_count": 10,
   "metadata": {
    "collapsed": true
   },
   "outputs": [],
   "source": [
    "r = beta * A.multiply(r)+(1-beta)*fhat"
   ]
  },
  {
   "cell_type": "code",
   "execution_count": 11,
   "metadata": {
    "collapsed": false
   },
   "outputs": [],
   "source": [
    "# for i in range(songId):\n",
    "#     #neighbors = A.getrow(i)\n",
    "#     for j in  range(songId):\n",
    "#         if A[i,j]==1:\n",
    "#             neighbourRank = A.getcol(j).sum()\n",
    "#             r[i] = beta*r[i]*(r[j]/neighbourRank)+((1-beta)*fhat[i])"
   ]
  },
  {
   "cell_type": "markdown",
   "metadata": {},
   "source": [
    "{u'artist': u'Dying Fetus',\n",
    " u'similars': [[u'TRKGDUE128F92F0E83', 1],\n",
    "  [u'TRKDLCR128F92F0E7F', 0.930181],\n",
    "  [u'TRKMKOE128F93094A0', 0.170124],\n",
    "  [u'TRYDFZL128F930949E', 0.162543],\n",
    "  [u'TRKWQKG128F934BE03', 0.14108],\n",
    "  [u'TRSWCRD128F428CDC0', 0.138215],\n",
    "  [u'TRRQOBX12903CF5E9A', 0.136527],\n",
    "  [u'TRGKQCB128F428CDC8', 0.132306],\n",
    "  [u'TRIOJWC128F930D724', 0.131877],\n",
    "  [u'TRYKETZ128F92C4061', 0.131466],\n",
    "  [u'TROPLWL128F934BE0C', 0.129271],\n",
    "  [u'TRKUOPO128F930D721', 0.122794],\n",
    "  [u'TRLVJBD128F4290F80', 0.118457],\n",
    "  [u'TRMRIIF128F92FE5ED', 0.101842],\n",
    "  [u'TRGBOFX128F42774D4', 0.101842],\n",
    "  [u'TRWWTTU128F92F1A0A', 0.100679],\n",
    "  [u'TRXFRTR12903CF45B0', 0.0987389],\n",
    "  [u'TRJYRBC128F934BDBF', 0.0977178],\n",
    "  [u'TREDAJV12903CDD706', 0.0931674],\n",
    "  [u'TRVHMHB128F4275500', 0.0918334],\n",
    "  [u'TRTAVJM12903CF1DD1', 0.0916868],\n",
    "  [u'TRPUBDK12903CF1DC9', 0.0907987],\n",
    "  [u'TRPTWZH128F4275508', 0.0885968],\n",
    "  [u'TRCJBLV12903D03E07', 0.0871354],\n",
    "  [u'TRNOMEW12903D03E16', 0.0849296],\n",
    "  [u'TRJERZV12903CF1E52', 0.0843221],\n",
    "  [u'TRIISZE128F92FE5E1', 0.0819743],\n",
    "  [u'TRPRCRM128F4290F82', 0.0813888],\n",
    "  [u'TRSIKCJ12903CF4242', 0.0761096],\n",
    "  [u'TRQGYBW128F93064AE', 0.0753326],\n",
    "  [u'TRPKWLL12903CFA207', 0.0744523],\n",
    "  [u'TRVZUTI128F428CE41', 0.0724359],\n",
    "  [u'TRFRUJD128F427C208', 0.0714274],\n",
    "  [u'TRKMEGQ128F4284795', 0.0706988],\n",
    "  [u'TRTARAS12903CBE6D4', 0.0689639],\n",
    "  [u'TRCMWCJ12903CDD85F', 0.0689617],\n",
    "  [u'TRJZKWM12903CFA206', 0.0689617],\n",
    "  [u'TRLAKKM128F423DACE', 0.0685598],\n",
    "  [u'TRHNEMQ12903CBE6DE', 0.0666846],\n",
    "  [u'TRXAGOI128F93064B8', 0.0660369],\n",
    "  [u'TRNNIAW12903D01602', 0.0572348],\n",
    "  [u'TRDHHIB128F4242267', 0.0503959],\n",
    "  [u'TRPHMAG128F423DBFB', 0.0497767],\n",
    "  [u'TRBOSUM12903CF8CCF', 0.043149],\n",
    "  [u'TRNMWAE12903CF5CAB', 0.0383058],\n",
    "  [u'TRMLBFT12903CF26AB', 0.0365885],\n",
    "  [u'TRFZFSL128F934C3BA', 0.00421432],\n",
    "  [u'TRXEPSX128F429103E', 0.00385149],\n",
    "  [u'TRGSVKS128F4242183', 0.00370507],\n",
    "  [u'TRXZKWA128F429103B', 0.00340451],\n",
    "  [u'TRQCDZN128F934127B', 0.0030235],\n",
    "  [u'TRLHKOV128F9341283', 0.0029796],\n",
    "  [u'TRYNIAF128F934C683', 0.0029653],\n",
    "  [u'TRUXEIW128F934C600', 0.00213755],\n",
    "  [u'TRQUYRH12903CE7466', 0.00207372],\n",
    "  [u'TRZYUKY12903CF5BC6', 0.00204379],\n",
    "  [u'TRYGCEK128F934B511', 0.00203792],\n",
    "  [u'TRWZDOO128F932D43A', 0.0020288],\n",
    "  [u'TRLFSCJ128F92DC387', 0.00197012],\n",
    "  [u'TRFQOJK12903CFF684', 0.00190903],\n",
    "  [u'TRXCANO12903CA0AC9', 0.00184685],\n",
    "  [u'TREKHBS128F934C5FA', 0.00182417],\n",
    "  [u'TRETJRL12903CA0ACA', 0.00172702],\n",
    "  [u'TRPZHYT128F93253C4', 0.00167472],\n",
    "  [u'TREIPRB128F92DC38B', 0.00165596],\n",
    "  [u'TRSVTFV128F93429F5', 0.00159807],\n",
    "  [u'TRRQJCA128F934299C', 0.00159798],\n",
    "  [u'TRFQWXP128F93429A5', 0.00159798],\n",
    "  [u'TRYMYRX128F424EACF', 0.00159141],\n",
    "  [u'TRXVADC12903CFF686', 0.00157535],\n",
    "  [u'TRJXOKM128F9342A0D', 0.00156752],\n",
    "  [u'TRUKHNI128F426FFF9', 0.00156286],\n",
    "  [u'TRMWWSL128F92E6D25', 0.00150441],\n",
    "  [u'TRSYCDY12903CF5CA5', 0.00149908],\n",
    "  [u'TRTFWQU128F932D439', 0.00149077],\n",
    "  [u'TRMAPOB128F427DAFD', 0.00139572],\n",
    "  [u'TREUBPH128F427B26C', 0.00136202],\n",
    "  [u'TRRWKJM128F934B5DE', 0.00131633],\n",
    "  [u'TRDCFGN128F934B5DA', 0.00131632],\n",
    "  [u'TRYZAGJ128F424EAD2', 0.00131602],\n",
    "  [u'TRIZEGF12903D09FCF', 0.0013008],\n",
    "  [u'TRLEERZ128F426B204', 0.00126853]],\n",
    " u'tags': [[u'Technical Death Metal', u'100'],\n",
    "  [u'Brutal Death Metal', u'85'],\n",
    "  [u'death metal', u'42'],\n",
    "  [u'grindcore', u'28'],\n",
    "  [u'metal', u'14'],\n",
    "  [u'death', u'14'],\n",
    "  [u'Technical Brutal Death Metal', u'14'],\n",
    "  [u'Ethos Of Coercion', u'14'],\n",
    "  [u'nosz kurwa jakie stopy', u'14']],\n",
    " u'timestamp': u'2011-07-30 16:58:31.240734',\n",
    " u'title': u'Ethos of Coercion',\n",
    " u'track_id': u'TRMMMQY128F92F0EA3'}"
   ]
  }
 ],
 "metadata": {
  "anaconda-cloud": {},
  "kernelspec": {
   "display_name": "Python [conda root]",
   "language": "python",
   "name": "conda-root-py"
  },
  "language_info": {
   "codemirror_mode": {
    "name": "ipython",
    "version": 3
   },
   "file_extension": ".py",
   "mimetype": "text/x-python",
   "name": "python",
   "nbconvert_exporter": "python",
   "pygments_lexer": "ipython3",
   "version": "3.5.2"
  }
 },
 "nbformat": 4,
 "nbformat_minor": 1
}
