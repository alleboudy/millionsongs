{
 "cells": [
  {
   "cell_type": "code",
   "execution_count": 125,
   "metadata": {
    "collapsed": false
   },
   "outputs": [],
   "source": [
    "import numpy as np\n",
    "from scipy.sparse.linalg import svds\n",
    "#from alternating import optimize\n",
    "from itertools import count\n",
    "from scipy import sparse"
   ]
  },
  {
   "cell_type": "code",
   "execution_count": 103,
   "metadata": {
    "collapsed": true
   },
   "outputs": [],
   "source": [
    "datasetPath = '/media/yuanze/0C97197C0C97197C/files/WS16-17/mining_massive_data/project/train_triplets.txt'\n",
    "n =300000\n",
    "b = 10\n",
    "ignoreLessThan = 5\n",
    "num_test = 200\n",
    "\n",
    "# k is the num of freedom of Q's cols and P's rows\n",
    "k = 30"
   ]
  },
  {
   "cell_type": "code",
   "execution_count": 123,
   "metadata": {
    "collapsed": false
   },
   "outputs": [],
   "source": [
    "# read first n triplets from the dataset\n",
    "def readTriplets(datasetPath, n):\n",
    "    row = []\n",
    "    col = []\n",
    "    data = []\n",
    "\n",
    "    user_to_row = {}\n",
    "    song_to_col = {}\n",
    "    user_count = count()\n",
    "    song_count = count()\n",
    "    limitingCounter = 0\n",
    "    with open(datasetPath) as f:\n",
    "        for triplet in f:\n",
    "            if limitingCounter ==n:\n",
    "                break\n",
    "            limitingCounter+=1\n",
    "\n",
    "            uid, sid, play_count =triplet.split('\\t')\n",
    "            #print (uid, sid, play_count)\n",
    "            if not uid in user_to_row:\n",
    "                user_to_row[uid] = next(user_count)\n",
    "            row.append(user_to_row[uid])\n",
    "            if not sid in song_to_col:\n",
    "                song_to_col[sid] = next(song_count)\n",
    "            col.append(song_to_col[sid])        \n",
    "            data.append(int(play_count))\n",
    "    return row, col, data"
   ]
  },
  {
   "cell_type": "markdown",
   "metadata": {},
   "source": [
    "$Preprocess 1:$\n",
    "\n",
    "assign compress all entries in M into [i,i+1]"
   ]
  },
  {
   "cell_type": "code",
   "execution_count": 122,
   "metadata": {
    "collapsed": false
   },
   "outputs": [],
   "source": [
    "def resetData(data):\n",
    "    data = np.floor(np.log(data)/np.log(2)+1)\n",
    "    data[data>b]=b\n",
    "    return data"
   ]
  },
  {
   "cell_type": "markdown",
   "metadata": {
    "collapsed": false
   },
   "source": [
    "$Preprocess 2:$\n",
    "\n",
    "Remove invalid songs and users"
   ]
  },
  {
   "cell_type": "code",
   "execution_count": 133,
   "metadata": {
    "collapsed": false,
    "scrolled": true
   },
   "outputs": [],
   "source": [
    "# construct the M\n",
    "# input: raw row,c col, data, and ignoreLessThan\n",
    "# return csr sparse pruned M\n",
    "def constructM(row,col,data,ignoreLessThan):\n",
    "    M = sparse.csr_matrix((data, (row, col)))\n",
    "    size = M.shape\n",
    "    count = 0\n",
    "    while(True):\n",
    "        count += 1\n",
    "        mask = M!=0\n",
    "        dr = mask.sum(axis=1)\n",
    "        M = M[np.where(dr>ignoreLessThan)[0],:]\n",
    "        mask = M!=0\n",
    "        dc = mask.sum(axis=0)\n",
    "        M = M[:,np.where(dc>ignoreLessThan)[1]]\n",
    "        if size == M.shape:\n",
    "            break\n",
    "        size = M.shape\n",
    "    print M.shape, count\n",
    "    return M"
   ]
  },
  {
   "cell_type": "markdown",
   "metadata": {
    "collapsed": true
   },
   "source": [
    "$Preprocess3 :$\n",
    "\n",
    "Draw test data"
   ]
  },
  {
   "cell_type": "code",
   "execution_count": 139,
   "metadata": {
    "collapsed": false
   },
   "outputs": [],
   "source": [
    "#divide M into test and train datasets\n",
    "# return test: first col of rows second col of cols and third col of data\n",
    "#        train: same, train_M: csr sparse of trian M \n",
    "def divideM(M,num_test):\n",
    "    # find out nonzeros of pruned M, and store the rows, cols, data in non0M\n",
    "    row,col = sparse.csr_matrix.nonzero(M)\n",
    "    data = M[row,col]\n",
    "    data = np.asarray(data.tolist()[0])\n",
    "    non0M = np.array([row,col,data]).T\n",
    "\n",
    "    # randomly draw num_test nonzeros from M as test data\n",
    "    draw = np.random.permutation(len(row))[:num_test]\n",
    "    test = non0M[draw]\n",
    "\n",
    "    # set train_M and assign all test data to 0s\n",
    "    train = np.delete(non0M,draw,0)\n",
    "    train_M = sparse.csr_matrix((train[:,2], (train[:,0], train[:,1])))\n",
    "    print  non0M.shape, test.shape, train.shape, train_M.shape, train_M[test[0,0],test[0,1]]\n",
    "    return test,train,train_M"
   ]
  },
  {
   "cell_type": "markdown",
   "metadata": {},
   "source": [
    "$Initialization :$"
   ]
  },
  {
   "cell_type": "code",
   "execution_count": 141,
   "metadata": {
    "collapsed": false
   },
   "outputs": [],
   "source": [
    "def initQP(train_M,k):\n",
    "    U,s,V = sparse.linalg.svds(train_M,k=k)\n",
    "    Q = U.dot(np.diag(s))\n",
    "    P = np.dot(np.diag(s),V)\n",
    "    print Q.shape, P.shape\n",
    "    return Q,P"
   ]
  },
  {
   "cell_type": "markdown",
   "metadata": {},
   "source": [
    "$AlternativeOptimization :$"
   ]
  },
  {
   "cell_type": "code",
   "execution_count": null,
   "metadata": {
    "collapsed": true
   },
   "outputs": [],
   "source": []
  },
  {
   "cell_type": "code",
   "execution_count": 121,
   "metadata": {
    "collapsed": false
   },
   "outputs": [
    {
     "data": {
      "text/plain": [
       "1.2214767520446226"
      ]
     },
     "execution_count": 121,
     "metadata": {},
     "output_type": "execute_result"
    }
   ],
   "source": [
    "np.dot(Q[train[0,0].astype(int),:],P[:,train[0,1].astype(int)])"
   ]
  },
  {
   "cell_type": "markdown",
   "metadata": {},
   "source": [
    "$RunTogether :$"
   ]
  },
  {
   "cell_type": "code",
   "execution_count": 143,
   "metadata": {
    "collapsed": false
   },
   "outputs": [
    {
     "name": "stdout",
     "output_type": "stream",
     "text": [
      "(5693, 10966) 5\n",
      "(171225, 3) (200, 3) (171025, 3) (5693, 10966) 0.0\n",
      "(5693, 30) (30, 10966)\n"
     ]
    }
   ],
   "source": [
    "row,col,data = readTriplets(datasetPath, n)\n",
    "data = resetData(data)\n",
    "M = constructM(row,col,data,ignoreLessThan)\n",
    "test,train,train_M = divideM(M,num_test)\n",
    "Q,P = initQP(train_M,k)"
   ]
  }
 ],
 "metadata": {
  "anaconda-cloud": {},
  "kernelspec": {
   "display_name": "Python 2",
   "language": "python",
   "name": "python2"
  },
  "language_info": {
   "codemirror_mode": {
    "name": "ipython",
    "version": 2
   },
   "file_extension": ".py",
   "mimetype": "text/x-python",
   "name": "python",
   "nbconvert_exporter": "python",
   "pygments_lexer": "ipython2",
   "version": "2.7.12"
  }
 },
 "nbformat": 4,
 "nbformat_minor": 1
}
