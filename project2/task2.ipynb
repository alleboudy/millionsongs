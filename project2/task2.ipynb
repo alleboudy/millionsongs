{
 "cells": [
  {
   "cell_type": "code",
   "execution_count": 1,
   "metadata": {
    "collapsed": false
   },
   "outputs": [],
   "source": [
    "import numpy as np\n",
    "from scipy.sparse.linalg import svds\n",
    "#from alternating import optimize\n",
    "from itertools import count\n",
    "from scipy import sparse\n"
   ]
  },
  {
   "cell_type": "code",
   "execution_count": 78,
   "metadata": {
    "collapsed": true
   },
   "outputs": [],
   "source": [
    "datasetPath = '/home/leboudy/mmds-project-dependencies/train_triplets.txt'\n",
    "n =10\n",
    "b = 10\n",
    "ignoreLessThan = 5"
   ]
  },
  {
   "cell_type": "code",
   "execution_count": null,
   "metadata": {
    "collapsed": false
   },
   "outputs": [],
   "source": []
  },
  {
   "cell_type": "code",
   "execution_count": 82,
   "metadata": {
    "collapsed": false
   },
   "outputs": [],
   "source": [
    "\n",
    "row = []\n",
    "col = []\n",
    "data = []\n",
    "\n",
    "user_to_row = {}\n",
    "song_to_col = {}\n",
    "user_count = count()\n",
    "song_count = count()\n",
    "limitingCounter = 0\n",
    "with open(datasetPath) as f:\n",
    "    for triplet in f:\n",
    "        if limitingCounter ==n:\n",
    "            break\n",
    "        limitingCounter+=1\n",
    "        \n",
    "        uid, sid, play_count =triplet.split('\\t')\n",
    "        #print (uid, sid, play_count)\n",
    "        if not uid in user_to_row:\n",
    "            user_to_row[uid] = next(user_count)\n",
    "        row.append(user_to_row[uid])\n",
    "        if not sid in song_to_col:\n",
    "            song_to_col[sid] = next(song_count)\n",
    "        col.append(song_to_col[sid])        \n",
    "        data.append(int(play_count))\n",
    "\n",
    "        \n",
    "for i in range(b-1):\n",
    "    #new_items = [x if x % 2 else None for x in items]\n",
    "    data = [i+1 if x<=(2^(i+1)-1)and x>= 2^i else b for  x in data ]\n",
    "\n",
    "M = sparse.coo_matrix((data, (row, col)))\n",
    "\n",
    "("
   ]
  },
  {
   "cell_type": "code",
   "execution_count": 83,
   "metadata": {
    "collapsed": false
   },
   "outputs": [
    {
     "name": "stdout",
     "output_type": "stream",
     "text": [
      "(1, 10)\n"
     ]
    }
   ],
   "source": [
    "print (M.sum(axis=0).shape) # summing accross rows , should filter out < 5\n"
   ]
  },
  {
   "cell_type": "markdown",
   "metadata": {},
   "source": [
    "#TODO: the preprocessing step where we make a boolean matrix of 1 when there is a value in (user,song) cell , 0 otherwise\n",
    "then sum its rows if an element is <5 remove it from M\n",
    "then sum its columns and so the same \n",
    "repeat until M is no longer changing "
   ]
  },
  {
   "cell_type": "code",
   "execution_count": null,
   "metadata": {
    "collapsed": true
   },
   "outputs": [],
   "source": []
  }
 ],
 "metadata": {
  "anaconda-cloud": {},
  "kernelspec": {
   "display_name": "Python [conda env:python3]",
   "language": "python",
   "name": "conda-env-python3-py"
  },
  "language_info": {
   "codemirror_mode": {
    "name": "ipython",
    "version": 3
   },
   "file_extension": ".py",
   "mimetype": "text/x-python",
   "name": "python",
   "nbconvert_exporter": "python",
   "pygments_lexer": "ipython3",
   "version": "3.5.2"
  }
 },
 "nbformat": 4,
 "nbformat_minor": 1
}
