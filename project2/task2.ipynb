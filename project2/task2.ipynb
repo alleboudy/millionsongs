{
 "cells": [
  {
   "cell_type": "code",
   "execution_count": 1,
   "metadata": {
    "collapsed": false
   },
   "outputs": [],
   "source": [
    "import numpy as np\n",
    "from scipy.sparse.linalg import svds\n",
    "#from alternating import optimize\n",
    "from itertools import count\n",
    "from scipy import sparse\n"
   ]
  },
  {
   "cell_type": "code",
   "execution_count": 2,
   "metadata": {
    "collapsed": true
   },
   "outputs": [],
   "source": [
    "datasetPath = '/media/yuanze/0C97197C0C97197C/files/WS16-17/mining_massive_data/project/train_triplets.txt'\n",
    "n =300000\n",
    "b = 10\n",
    "ignoreLessThan = 5"
   ]
  },
  {
   "cell_type": "code",
   "execution_count": 3,
   "metadata": {
    "collapsed": false
   },
   "outputs": [],
   "source": [
    "\n",
    "row = []\n",
    "col = []\n",
    "data = []\n",
    "\n",
    "user_to_row = {}\n",
    "song_to_col = {}\n",
    "user_count = count()\n",
    "song_count = count()\n",
    "limitingCounter = 0\n",
    "with open(datasetPath) as f:\n",
    "    for triplet in f:\n",
    "        if limitingCounter ==n:\n",
    "            break\n",
    "        limitingCounter+=1\n",
    "        \n",
    "        uid, sid, play_count =triplet.split('\\t')\n",
    "        #print (uid, sid, play_count)\n",
    "        if not uid in user_to_row:\n",
    "            user_to_row[uid] = next(user_count)\n",
    "        row.append(user_to_row[uid])\n",
    "        if not sid in song_to_col:\n",
    "            song_to_col[sid] = next(song_count)\n",
    "        col.append(song_to_col[sid])        \n",
    "        data.append(int(play_count))"
   ]
  },
  {
   "cell_type": "markdown",
   "metadata": {},
   "source": [
    "$Preprocess 1:$\n",
    "\n",
    "assign compress all entries in M into [i,i+1]"
   ]
  },
  {
   "cell_type": "code",
   "execution_count": 4,
   "metadata": {
    "collapsed": false
   },
   "outputs": [],
   "source": [
    "#for i in range(b-1):\n",
    "    #new_items = [x if x % 2 else None for x in items]\n",
    "#    data = [i+1 if x<=(2^(i+1)-1)and x>= 2^i else b for  x in data ]\n",
    "\n",
    "#M = sparse.csr_matrix((data, (row, col)))\n",
    "#print (M.shape)\n",
    "## incorrect"
   ]
  },
  {
   "cell_type": "code",
   "execution_count": 5,
   "metadata": {
    "collapsed": false
   },
   "outputs": [
    {
     "name": "stdout",
     "output_type": "stream",
     "text": [
      "(6270, 83822)\n"
     ]
    }
   ],
   "source": [
    "data = np.floor(np.log(data)/np.log(2)+1)\n",
    "data[data>b]=b\n",
    "M = sparse.csr_matrix((data, (row, col)))\n",
    "print(M.shape)"
   ]
  },
  {
   "cell_type": "markdown",
   "metadata": {
    "collapsed": false
   },
   "source": [
    "$Preprocess 2:$\n",
    "\n",
    "Remove invalid songs and users"
   ]
  },
  {
   "cell_type": "code",
   "execution_count": 6,
   "metadata": {
    "collapsed": false,
    "scrolled": true
   },
   "outputs": [
    {
     "name": "stdout",
     "output_type": "stream",
     "text": [
      "((5693, 10966), 5)\n"
     ]
    }
   ],
   "source": [
    "size = M.shape\n",
    "count = 0\n",
    "while(True):\n",
    "    count += 1\n",
    "    mask = M!=0\n",
    "    dr = mask.sum(axis=1)\n",
    "    M = M[np.where(dr>ignoreLessThan)[0],:]\n",
    "    mask = M!=0\n",
    "    dc = mask.sum(axis=0)\n",
    "    M = M[:,np.where(dc>ignoreLessThan)[1]]\n",
    "    if size == M.shape:\n",
    "        break\n",
    "    size = M.shape\n",
    "print(M.shape, count)\n",
    "# the result is wired"
   ]
  },
  {
   "cell_type": "code",
   "execution_count": null,
   "metadata": {
    "collapsed": true
   },
   "outputs": [],
   "source": []
  }
 ],
 "metadata": {
  "anaconda-cloud": {},
  "kernelspec": {
   "display_name": "Python 2",
   "language": "python",
   "name": "python2"
  },
  "language_info": {
   "codemirror_mode": {
    "name": "ipython",
    "version": 2
   },
   "file_extension": ".py",
   "mimetype": "text/x-python",
   "name": "python",
   "nbconvert_exporter": "python",
   "pygments_lexer": "ipython2",
   "version": "2.7.12"
  }
 },
 "nbformat": 4,
 "nbformat_minor": 1
}
